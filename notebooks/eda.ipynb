{
 "cells": [
  {
   "cell_type": "code",
   "execution_count": null,
   "id": "437cabe9",
   "metadata": {},
   "outputs": [],
   "source": [
    "import pandas as pd \n",
    "import numpy as np \n",
    "import yfinance as yf \n",
    "import seaborn as sns \n",
    "import ta \n",
    "\n",
    "sns.set(style=\"whitegrid\")"
   ]
  },
  {
   "cell_type": "code",
   "execution_count": null,
   "id": "1abf54e7",
   "metadata": {},
   "outputs": [],
   "source": [
    "ticker = \"ASELS.IS\"\n",
    "\n",
    "df = yf.download(ticker, start=\"2022-01-01\")\n",
    "\n",
    "if isinstance(df.columns, pd.MultiIndex):\n",
    "    df.columns = df.columns.get_level_values(0)\n",
    "\n",
    "df.head()"
   ]
  },
  {
   "cell_type": "code",
   "execution_count": null,
   "id": "0984485c",
   "metadata": {},
   "outputs": [],
   "source": [
    "from ta.momentum import RSIIndicator\n",
    "\n",
    "rsi_calc = RSIIndicator(close=df[\"Close\"])\n",
    "df[\"rsi\"] = rsi_calc.rsi()\n",
    "\n",
    "df[[\"Close\", \"rsi\"]].tail(10)\n"
   ]
  },
  {
   "cell_type": "code",
   "execution_count": null,
   "id": "8655f868",
   "metadata": {},
   "outputs": [],
   "source": [
    "import matplotlib.pyplot as plt \n",
    "\n",
    "plt.figure(figsize=(12,4))\n",
    "\n",
    "plt.plot(df.index, df[\"rsi\"], label=\"RSI\", color=\"blue\")\n",
    "\n",
    "plt.axhline(70, color=\"red\", linestyle=\"--\", label=\"Overbought\")\n",
    "plt.axhline(30, color=\"green\", linestyle=\"--\", label=\"Oversold\")\n",
    "\n",
    "plt.title(f\"{ticker} RSI (14-Day)\")\n",
    "plt.xlabel(\"Date\")\n",
    "plt.ylabel(\"RSI Value\")\n",
    "plt.legend()\n",
    "plt.show()"
   ]
  },
  {
   "cell_type": "code",
   "execution_count": null,
   "id": "ba184df9",
   "metadata": {},
   "outputs": [],
   "source": [
    "from ta.trend import MACD\n",
    "\n",
    "macd_calc = MACD(close=df[\"Close\"])\n",
    "df[\"macd\"] = macd_calc.macd()\n",
    "df[\"macd_signal\"] = macd_calc.macd_signal()\n",
    "df[\"macd_diff\"] = macd_calc.macd_diff()\n",
    "\n",
    "df[[\"Close\", \"macd\", \"macd_signal\", \"macd_diff\"]].tail(10)\n"
   ]
  },
  {
   "cell_type": "code",
   "execution_count": null,
   "id": "34847087",
   "metadata": {},
   "outputs": [],
   "source": [
    "import matplotlib.pyplot as plt\n",
    "\n",
    "plt.figure(figsize=(14,7))\n",
    "\n",
    "plt.plot(df.index, df[\"macd\"], label=\"MACD\", color=\"blue\")\n",
    "plt.plot(df.index, df[\"macd_signal\"], label=\"Signal Line\", color=\"red\")\n",
    "\n",
    "plt.bar(df.index, df[\"macd_diff\"], label=\"MACD Histogram\",\n",
    "        color=(df[\"macd_diff\"] > 0).map({True: \"green\", False: \"red\"}), alpha=0.5)\n",
    "\n",
    "plt.title(f\"{ticker} MACD Indicator\")\n",
    "plt.xlabel(\"Date\")\n",
    "plt.ylabel(\"Value\")\n",
    "plt.legend(loc = \"upper left\")\n",
    "plt.grid(True)\n",
    "plt.show()\n"
   ]
  },
  {
   "cell_type": "code",
   "execution_count": null,
   "id": "13606b40",
   "metadata": {},
   "outputs": [],
   "source": [
    "#Selecting necessary columns\n",
    "df_model = df[[\"Close\", \"rsi\", \"macd\", \"macd_signal\", \"macd_diff\"]].copy()\n",
    "\n",
    "#Create Target Price\n",
    "df_model[\"target\"] = df_model[\"Close\"].shift(-1)\n",
    "\n",
    "#Delete last line\n",
    "df_model.dropna(inplace=True)\n",
    "\n",
    "df_model.tail()\n"
   ]
  },
  {
   "cell_type": "code",
   "execution_count": null,
   "id": "6a414969",
   "metadata": {},
   "outputs": [],
   "source": [
    "df_model.to_csv(\"df_model.csv\")"
   ]
  }
 ],
 "metadata": {
  "kernelspec": {
   "display_name": "Python 3",
   "language": "python",
   "name": "python3"
  },
  "language_info": {
   "codemirror_mode": {
    "name": "ipython",
    "version": 3
   },
   "file_extension": ".py",
   "mimetype": "text/x-python",
   "name": "python",
   "nbconvert_exporter": "python",
   "pygments_lexer": "ipython3",
   "version": "3.9.6"
  }
 },
 "nbformat": 4,
 "nbformat_minor": 5
}
